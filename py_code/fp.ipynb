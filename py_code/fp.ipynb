{
 "cells": [
  {
   "cell_type": "code",
   "execution_count": 195,
   "metadata": {},
   "outputs": [],
   "source": [
    "import copy\n",
    "files = [\"input/a_an_example.in.txt\"]"
   ]
  },
  {
   "cell_type": "code",
   "execution_count": 196,
   "metadata": {},
   "outputs": [],
   "source": [
    "class Contributor:\n",
    "    name = \"\"\n",
    "    skills = []\n",
    "    \n",
    "    def __init__(self, name, skills):\n",
    "        self.name = name\n",
    "        self.skills = skills"
   ]
  },
  {
   "cell_type": "code",
   "execution_count": 197,
   "metadata": {},
   "outputs": [],
   "source": [
    "class Project: \n",
    "    name = \"\"\n",
    "    days = 0\n",
    "    score = 0\n",
    "    best_before = 0\n",
    "    roles = []\n",
    "    \n",
    "    def __init__(self, name, days, score, best_before, roles):\n",
    "        self.name = name\n",
    "        self.days = days\n",
    "        self.score = score\n",
    "        self.best_before = best_before\n",
    "        self.roles = roles    "
   ]
  },
  {
   "cell_type": "code",
   "execution_count": 198,
   "metadata": {},
   "outputs": [],
   "source": [
    "# todo mettere nel ciclo\n",
    "contributors = []\n",
    "projects = []\n",
    "C = 0\n",
    "P = 0\n"
   ]
  },
  {
   "cell_type": "code",
   "execution_count": 199,
   "metadata": {},
   "outputs": [],
   "source": [
    "contributors = []\n",
    "projects = []\n",
    "C = 0\n",
    "P = 0\n",
    "for file in files: \n",
    "    with open(file, \"r\") as f:\n",
    "        C, P = f.readline().split()\n",
    "        for i in range(0, int(C)):\n",
    "            name, n_skill = f.readline().split()\n",
    "            \n",
    "            tmp = {}\n",
    "            for j in range(0, int(n_skill)):\n",
    "                skill, level = f.readline().strip(\"\\n\").split(\" \")\n",
    "                tmp[skill] =  level\n",
    "                \n",
    "            contributors.append(Contributor(name, tmp))\n",
    "            \n",
    "        for i in range(0, int(P)):\n",
    "            name, days, score, best, n_roles = f.readline().split(\" \")\n",
    "            \n",
    "            tmp = {}\n",
    "            for j in range(0, int(n_roles)):\n",
    "                skill, level = f.readline().strip(\"\\n\").split(\" \")\n",
    "                tmp[skill] =  level\n",
    "                        \n",
    "            projects.append(Project(name, days, score, best, tmp))\n",
    "        \n",
    "        \n",
    "            "
   ]
  },
  {
   "cell_type": "code",
   "execution_count": 200,
   "metadata": {},
   "outputs": [],
   "source": [
    "# todo mettere nel ciclo"
   ]
  },
  {
   "cell_type": "code",
   "execution_count": 201,
   "metadata": {},
   "outputs": [
    {
     "name": "stdout",
     "output_type": "stream",
     "text": [
      "Logging\n",
      "kC++\n",
      "v3\n",
      "WebServer\n",
      "kHTML\n",
      "v3\n",
      "kC++\n",
      "v2\n",
      "WebChat\n",
      "kPython\n",
      "v3\n",
      "kHTML\n",
      "v3\n"
     ]
    }
   ],
   "source": [
    "for p in projects:\n",
    "    print (p.name)\n",
    "    for item in p.roles:\n",
    "        print('k'+ item)\n",
    "        print('v'+ p.roles[item])"
   ]
  },
  {
   "cell_type": "code",
   "execution_count": 227,
   "metadata": {},
   "outputs": [
    {
     "name": "stdout",
     "output_type": "stream",
     "text": [
      "WebServerAnna      controllo - C++-C++\n",
      "      controllo - 22\n",
      "CONFIRMEDAnna\n",
      "WebServerBob      controllo - HTML-HTML\n",
      "      controllo - 53\n",
      "CONFIRMEDBob\n",
      "WebChatBob      controllo - HTML-HTML\n",
      "      controllo - 53\n",
      "CONFIRMEDBob\n",
      "WebChatMaria      controllo - Python-Python\n",
      "      controllo - 33\n",
      "CONFIRMEDMaria\n",
      "2\n",
      "WebServer\n",
      "Anna\n",
      "Bob\n",
      "WebChat\n",
      "Bob\n",
      "Maria\n"
     ]
    }
   ],
   "source": [
    "winner = {}\n",
    "for p in projects:\n",
    "    candidati = []\n",
    "    tmp_c = copy.deepcopy(contributors)\n",
    "    for c in tmp_c:\n",
    "        test = False\n",
    "        for pkeys in p.roles:    \n",
    "            for ckeys in c.skills:\n",
    "                if not test: \n",
    "                    if ckeys == pkeys and int(c.skills[ckeys]) >= int(p.roles[pkeys]): \n",
    "                        print( p.name + c.name + \"      controllo - \" + pkeys + \"-\" + ckeys)\n",
    "                        print(\"      controllo - \" + c.skills[ckeys] + p.roles[pkeys] )\n",
    "                        print(\"CONFIRMED\" + c.name)\n",
    "                        candidati.append(c.name)\n",
    "                        test = True\n",
    "       \n",
    "    if len(candidati) == len(p.roles):    \n",
    "        winner [p.name] = candidati\n",
    "    \n",
    "print(len(winner)) # prima\n",
    "for w in winner:\n",
    "    print(w)\n",
    "    for person in winner[w]:\n",
    "        print(person)\n",
    "\n"
   ]
  },
  {
   "cell_type": "code",
   "execution_count": null,
   "metadata": {},
   "outputs": [],
   "source": []
  },
  {
   "cell_type": "code",
   "execution_count": 231,
   "metadata": {},
   "outputs": [],
   "source": [
    "tmp_f = open(\"result.txt\", \"w\")\n",
    "tmp_f.write(str(len(winner))+\"\\n\")\n",
    "for w in winner:\n",
    "    tmp_f.write(w + \"\\n\")\n",
    "    for person in winner[w]:\n",
    "        tmp_f.write(person + \" \")\n",
    "    tmp_f.write(\" \\n\")\n",
    "       "
   ]
  },
  {
   "cell_type": "code",
   "execution_count": null,
   "metadata": {},
   "outputs": [],
   "source": []
  }
 ],
 "metadata": {
  "interpreter": {
   "hash": "916dbcbb3f70747c44a77c7bcd40155683ae19c65e1c03b4aa3499c5328201f1"
  },
  "kernelspec": {
   "display_name": "Python 3.8.10 64-bit",
   "language": "python",
   "name": "python3"
  },
  "language_info": {
   "codemirror_mode": {
    "name": "ipython",
    "version": 3
   },
   "file_extension": ".py",
   "mimetype": "text/x-python",
   "name": "python",
   "nbconvert_exporter": "python",
   "pygments_lexer": "ipython3",
   "version": "3.8.10"
  },
  "orig_nbformat": 4
 },
 "nbformat": 4,
 "nbformat_minor": 2
}
