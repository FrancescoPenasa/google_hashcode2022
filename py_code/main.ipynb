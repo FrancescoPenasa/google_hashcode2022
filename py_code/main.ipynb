{
 "cells": [
  {
   "cell_type": "code",
   "execution_count": 10,
   "metadata": {},
   "outputs": [],
   "source": [
    "input = open(\"input/a_an_example.in.txt\")"
   ]
  },
  {
   "cell_type": "code",
   "execution_count": 11,
   "metadata": {},
   "outputs": [],
   "source": [
    "n_contributors, n_projects = input.readline().split(\" \")\n",
    "n_contributors = int(n_contributors)\n",
    "n_projects = int(n_projects)\n",
    "\n",
    "contributors = {}\n",
    "projects = {}"
   ]
  },
  {
   "cell_type": "code",
   "execution_count": 12,
   "metadata": {},
   "outputs": [],
   "source": [
    "for i in range(0,n_contributors):\n",
    "    contributor_name, n_skills = input.readline().strip(\"\\n\").split(\" \")\n",
    "    n_skills = int(n_skills)\n",
    "\n",
    "    while n_skills > 0:\n",
    "        skill_name, skill_level = input.readline().strip(\"\\n\").split(\" \")\n",
    "        contributors.setdefault(contributor_name, {})[skill_name] = skill_level\n",
    "\n",
    "        n_skills-=1"
   ]
  },
  {
   "cell_type": "code",
   "execution_count": 13,
   "metadata": {},
   "outputs": [],
   "source": [
    "for i in range(0,n_projects):\n",
    "    project_name, n_days, score, best_before, n_roles = input.readline().strip(\"\\n\").split(\" \")\n",
    "    n_days = int(n_days)\n",
    "    score = int(score)\n",
    "    best_before = int(best_before)\n",
    "    n_roles = int(n_roles)\n",
    "\n",
    "    projects.setdefault(project_name, {})[\"n_days\"] = n_days\n",
    "    projects.setdefault(project_name, {})[\"score\"] = score\n",
    "    projects.setdefault(project_name, {})[\"best_before\"] = best_before\n",
    "    projects.setdefault(project_name, {})[\"roles\"] = []\n",
    "\n",
    "    while n_roles > 0:\n",
    "        skill_name, skill_level = input.readline().strip(\"\\n\").split(\" \")\n",
    "        projects[project_name][\"roles\"] += [skill_name, skill_level]\n",
    "\n",
    "        n_roles-=1"
   ]
  },
  {
   "cell_type": "code",
   "execution_count": 45,
   "metadata": {},
   "outputs": [
    {
     "name": "stdout",
     "output_type": "stream",
     "text": [
      "Anna {'C++': '2'}\n"
     ]
    },
    {
     "ename": "AttributeError",
     "evalue": "'dict' object has no attribute 'first'",
     "output_type": "error",
     "traceback": [
      "\u001b[0;31m---------------------------------------------------------------------------\u001b[0m",
      "\u001b[0;31mAttributeError\u001b[0m                            Traceback (most recent call last)",
      "\u001b[1;32m/home/beryllium/dev/hashcode_2022/py_code/main.ipynb Cell 5'\u001b[0m in \u001b[0;36m<module>\u001b[0;34m\u001b[0m\n\u001b[1;32m      <a href='vscode-notebook-cell://wsl%2Bubuntu/home/beryllium/dev/hashcode_2022/py_code/main.ipynb#ch0000004vscode-remote?line=0'>1</a>\u001b[0m \u001b[39mfor\u001b[39;00m key, value \u001b[39min\u001b[39;00m contributors\u001b[39m.\u001b[39mitems() :\n\u001b[1;32m      <a href='vscode-notebook-cell://wsl%2Bubuntu/home/beryllium/dev/hashcode_2022/py_code/main.ipynb#ch0000004vscode-remote?line=1'>2</a>\u001b[0m     \u001b[39mprint\u001b[39m (key, value)\n\u001b[0;32m----> <a href='vscode-notebook-cell://wsl%2Bubuntu/home/beryllium/dev/hashcode_2022/py_code/main.ipynb#ch0000004vscode-remote?line=2'>3</a>\u001b[0m     \u001b[39mprint\u001b[39m (value\u001b[39m.\u001b[39;49mfirst)\n",
      "\u001b[0;31mAttributeError\u001b[0m: 'dict' object has no attribute 'first'"
     ]
    }
   ],
   "source": [
    "for key, value in contributors.items() :\n",
    "    print (key, value)\n",
    "    print (value.)"
   ]
  },
  {
   "cell_type": "code",
   "execution_count": 41,
   "metadata": {},
   "outputs": [
    {
     "name": "stdout",
     "output_type": "stream",
     "text": [
      "3\n",
      "3\n",
      "3\n"
     ]
    }
   ],
   "source": [
    "for pkey, pvalue in projects.items() :\n",
    "    #print (pkey, pvalue)\n",
    "    print (pvalue[\"roles\"][1])"
   ]
  },
  {
   "cell_type": "code",
   "execution_count": null,
   "metadata": {},
   "outputs": [],
   "source": [
    "for pkey, pvalue in projects.items() :\n",
    "    for ckey, cvalue in contributors.items() :\n",
    "        if cvalue"
   ]
  }
 ],
 "metadata": {
  "interpreter": {
   "hash": "31f2aee4e71d21fbe5cf8b01ff0e069b9275f58929596ceb00d14d90e3e16cd6"
  },
  "kernelspec": {
   "display_name": "Python 3.8.10 64-bit",
   "language": "python",
   "name": "python3"
  },
  "language_info": {
   "codemirror_mode": {
    "name": "ipython",
    "version": 3
   },
   "file_extension": ".py",
   "mimetype": "text/x-python",
   "name": "python",
   "nbconvert_exporter": "python",
   "pygments_lexer": "ipython3",
   "version": "3.8.10"
  },
  "orig_nbformat": 4
 },
 "nbformat": 4,
 "nbformat_minor": 2
}
